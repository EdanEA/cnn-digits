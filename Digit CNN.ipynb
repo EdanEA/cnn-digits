{
 "cells": [
  {
   "cell_type": "markdown",
   "id": "11c47e8a-558e-463d-8009-0a5b01a75d51",
   "metadata": {},
   "source": [
    "# 0-9 Digit Convolutional Neural Network"
   ]
  },
  {
   "cell_type": "markdown",
   "id": "ecdf3a36-9011-4bae-9909-9e087b3fca43",
   "metadata": {},
   "source": [
    "## Building dataset"
   ]
  },
  {
   "cell_type": "markdown",
   "id": "ed755db1-5482-4b05-ad4f-7470cfc11991",
   "metadata": {},
   "source": [
    "### Import libraries"
   ]
  },
  {
   "cell_type": "code",
   "execution_count": null,
   "id": "ecac8c36-2895-4ef1-bc6d-b2f6f0c0ead9",
   "metadata": {},
   "outputs": [],
   "source": [
    "!pip install pillow\n",
    "!pip install tensorflow\n",
    "!pip install numpy\n",
    "!pip install scikit-learn\n",
    "!pip install matplotlib"
   ]
  },
  {
   "cell_type": "code",
   "execution_count": null,
   "id": "4850164b-8dde-49f8-836d-6c7b6aa7a1c3",
   "metadata": {},
   "outputs": [],
   "source": [
    "import os\n",
    "import tarfile\n",
    "import tensorflow as tf\n",
    "import numpy as np\n",
    "from tensorflow.keras.preprocessing.image import ImageDataGenerator"
   ]
  },
  {
   "cell_type": "markdown",
   "id": "b203fb33-c411-45cf-a285-b20f6788fa87",
   "metadata": {},
   "source": [
    "### Untar dataset archive"
   ]
  },
  {
   "cell_type": "code",
   "execution_count": null,
   "id": "c618c189-e059-4da9-b920-9c785c0df5c3",
   "metadata": {},
   "outputs": [],
   "source": [
    "if not os.path.isdir('./numbers/'):\n",
    "    with tarfile.open('numbers.tar.xz') as f:\n",
    "        f.extractall('.')\n",
    "else:\n",
    "    print('Already untarred')"
   ]
  },
  {
   "cell_type": "markdown",
   "id": "10157dd9-a6cb-4a9d-8320-b14c2040abb5",
   "metadata": {},
   "source": [
    "### Creating training and testing datasets"
   ]
  },
  {
   "cell_type": "code",
   "execution_count": null,
   "id": "b471b661-8453-4c5a-9975-5f1d38eca371",
   "metadata": {},
   "outputs": [],
   "source": [
    "datagen = ImageDataGenerator(\n",
    "    rescale = 1./255,\n",
    "    shear_range = 0.2,\n",
    "    zoom_range = 0.2,\n",
    "    horizontal_flip = True,\n",
    "    validation_split = 0.2\n",
    ")\n",
    "\n",
    "train_dataset = datagen.flow_from_directory(\n",
    "    'numbers',\n",
    "    target_size = (64, 64),\n",
    "    batch_size = 128,\n",
    "    class_mode = 'categorical',\n",
    "    subset = 'training'\n",
    ")\n",
    "\n",
    "test_dataset = datagen.flow_from_directory(\n",
    "    'numbers',\n",
    "    target_size = (64, 64),\n",
    "    batch_size = 128,\n",
    "    class_mode = 'categorical',\n",
    "    subset = 'validation'\n",
    ")"
   ]
  },
  {
   "cell_type": "code",
   "execution_count": null,
   "id": "abe62d37-526d-41b0-87b8-ac97083c90b5",
   "metadata": {},
   "outputs": [],
   "source": [
    "print(len(train_dataset))\n",
    "print(len(test_dataset))"
   ]
  },
  {
   "cell_type": "markdown",
   "id": "b2748474-08f3-4fce-a1c0-0ca10827a48c",
   "metadata": {},
   "source": [
    "## Creating convolutional neural network"
   ]
  },
  {
   "cell_type": "markdown",
   "id": "547de1ef-0621-4d1d-a3a0-7f0e564b5e4e",
   "metadata": {},
   "source": [
    "### Initialize network"
   ]
  },
  {
   "cell_type": "code",
   "execution_count": null,
   "id": "1f41ea70-8995-4edb-8b14-781eca88a0b5",
   "metadata": {},
   "outputs": [],
   "source": [
    "cnn = tf.keras.Sequential()"
   ]
  },
  {
   "cell_type": "markdown",
   "id": "3c85385c-63df-468a-a3c5-4f7fc57b6221",
   "metadata": {},
   "source": [
    "### Setup layers"
   ]
  },
  {
   "cell_type": "code",
   "execution_count": null,
   "id": "11184fff-9499-4809-a8ee-31de6309e516",
   "metadata": {},
   "outputs": [],
   "source": [
    "cnn.add(tf.keras.layers.Conv2D(32, (3, 3), activation = 'relu', input_shape = (64, 64, 3)))\n",
    "cnn.add(tf.keras.layers.MaxPooling2D((2, 2)))\n",
    "cnn.add(tf.keras.layers.Dropout(0.2))\n",
    "\n",
    "cnn.add(tf.keras.layers.Conv2D(64, (3, 3), activation = 'relu'))\n",
    "cnn.add(tf.keras.layers.MaxPooling2D((2, 2)))\n",
    "cnn.add(tf.keras.layers.Dropout(0.2))\n",
    "\n",
    "cnn.add(tf.keras.layers.Flatten())\n",
    "cnn.add(tf.keras.layers.Dense(128, activation = 'relu'))\n",
    "cnn.add(tf.keras.layers.Dense(10, activation = 'softmax'))"
   ]
  },
  {
   "cell_type": "markdown",
   "id": "1aca228a-bdf7-4424-91b7-844a68c4eb06",
   "metadata": {},
   "source": [
    "### Compile CNN"
   ]
  },
  {
   "cell_type": "code",
   "execution_count": null,
   "id": "cfdaef3a-e776-439c-bd41-f786a6a8c12a",
   "metadata": {},
   "outputs": [],
   "source": [
    "cnn.compile(\n",
    "    optimizer = tf.keras.optimizers.Adam(weight_decay = 0.01),\n",
    "    loss = tf.keras.losses.CategoricalCrossentropy(),\n",
    "    metrics = [ tf.keras.metrics.CategoricalAccuracy(), tf.keras.metrics.Precision(), tf.keras.metrics.Recall() ]\n",
    ")"
   ]
  },
  {
   "cell_type": "markdown",
   "id": "3ffd8a1a-ef80-4910-8380-ea5157958ad4",
   "metadata": {},
   "source": [
    "### Train CNN on dataset"
   ]
  },
  {
   "cell_type": "code",
   "execution_count": null,
   "id": "4658d536-2122-4e54-b576-6b6401f50109",
   "metadata": {},
   "outputs": [],
   "source": [
    "cnn.fit(x = train_dataset, validation_data = test_dataset, epochs = 5)"
   ]
  },
  {
   "cell_type": "markdown",
   "id": "b2bac652-dbef-4a10-be28-e5c9d0da6768",
   "metadata": {},
   "source": [
    "## Testing model accuracy"
   ]
  },
  {
   "cell_type": "markdown",
   "id": "8fa5dd1b-564d-4e34-8be9-533e747e5be3",
   "metadata": {},
   "source": [
    "### Show that model works on an individual image"
   ]
  },
  {
   "cell_type": "code",
   "execution_count": null,
   "id": "382569e5-6152-4bff-84ea-fb968fab02e7",
   "metadata": {},
   "outputs": [],
   "source": [
    "from tensorflow.keras.preprocessing import image\n",
    "\n",
    "test_image = image.load_img('numbers-new/4/4_3_137_scaled_x1y1_2.png', target_size = (64, 64))\n",
    "display(test_image)\n",
    "test_image = image.img_to_array(test_image)\n",
    "test_image = np.expand_dims(test_image, axis = 0)\n",
    "cnn.predict(test_image)"
   ]
  },
  {
   "cell_type": "markdown",
   "id": "7d871ade-4780-494b-92b5-6cdad1051ee0",
   "metadata": {},
   "source": [
    "### Get expected and predicted categories for test dataset"
   ]
  },
  {
   "cell_type": "code",
   "execution_count": null,
   "id": "03a3ecc3-5e6f-4e24-aadb-e7f6703df91e",
   "metadata": {},
   "outputs": [],
   "source": [
    "expected_vals = []\n",
    "predicted_vals = []\n",
    "for i in range(len(test_dataset)):    \n",
    "    predicted_vals = np.concatenate((predicted_vals, cnn.predict(test_dataset[i]).argmax(axis = 1)))\n",
    "    for j in range(len(test_dataset[i][1])):\n",
    "        expected_vals.append(test_dataset[i][1][j].argmax(axis = 0))"
   ]
  },
  {
   "cell_type": "code",
   "execution_count": null,
   "id": "e0c8f950-21d9-4127-a058-9427b9f8a528",
   "metadata": {},
   "outputs": [],
   "source": [
    "print(len(expected_vals))\n",
    "print(len(predicted_vals))"
   ]
  },
  {
   "cell_type": "markdown",
   "id": "95103dc3-7623-426f-bd9a-fcdfb05d7426",
   "metadata": {},
   "source": [
    "### Generate confusion matrix graph"
   ]
  },
  {
   "cell_type": "code",
   "execution_count": null,
   "id": "032f2dbd-9c83-4ac0-9504-730aaeda5935",
   "metadata": {},
   "outputs": [],
   "source": [
    "from sklearn.metrics import confusion_matrix, ConfusionMatrixDisplay, f1_score\n",
    "cmd = ConfusionMatrixDisplay(confusion_matrix(expected_vals, predicted_vals))\n",
    "cmd.plot()"
   ]
  },
  {
   "cell_type": "markdown",
   "id": "5a1ff809-bb9c-408e-9bef-80dfbe5f93b1",
   "metadata": {},
   "source": [
    "### Get calculated F1 score"
   ]
  },
  {
   "cell_type": "code",
   "execution_count": null,
   "id": "678eae84-4743-417c-bc54-ac5c0696d680",
   "metadata": {},
   "outputs": [],
   "source": [
    "f1_score(expected_vals, predicted_vals, average = 'macro')"
   ]
  },
  {
   "cell_type": "markdown",
   "id": "cee10da6-4916-442c-a627-8a046082dfdf",
   "metadata": {},
   "source": [
    "## Visualizing the model"
   ]
  },
  {
   "cell_type": "code",
   "execution_count": null,
   "id": "e9682d55-f9d4-49f1-aea7-6c05998b22db",
   "metadata": {},
   "outputs": [],
   "source": [
    "print(cnn.summary())"
   ]
  },
  {
   "cell_type": "markdown",
   "id": "f9784ac5-246f-43e6-a522-f392dd285c7f",
   "metadata": {},
   "source": [
    "## Save model"
   ]
  },
  {
   "cell_type": "code",
   "execution_count": null,
   "id": "974683ad-9c53-46a0-8cee-bc247854deb6",
   "metadata": {},
   "outputs": [],
   "source": [
    "# cnn.save('model.h5')"
   ]
  }
 ],
 "metadata": {
  "kernelspec": {
   "display_name": "Python 3 (ipykernel)",
   "language": "python",
   "name": "python3"
  },
  "language_info": {
   "codemirror_mode": {
    "name": "ipython",
    "version": 3
   },
   "file_extension": ".py",
   "mimetype": "text/x-python",
   "name": "python",
   "nbconvert_exporter": "python",
   "pygments_lexer": "ipython3",
   "version": "3.12.9"
  }
 },
 "nbformat": 4,
 "nbformat_minor": 5
}
